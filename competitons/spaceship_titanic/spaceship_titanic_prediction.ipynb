{
 "cells": [
  {
   "cell_type": "code",
   "execution_count": 1,
   "id": "initial_id",
   "metadata": {
    "collapsed": true,
    "ExecuteTime": {
     "end_time": "2024-06-26T11:47:51.479110Z",
     "start_time": "2024-06-26T11:47:50.771822Z"
    }
   },
   "outputs": [],
   "source": [
    "import pandas as pd\n",
    "\n",
    "from sklearn.ensemble import RandomForestClassifier"
   ]
  },
  {
   "cell_type": "markdown",
   "source": [
    "Explore"
   ],
   "metadata": {
    "collapsed": false
   },
   "id": "7d7c44321c814566"
  },
  {
   "cell_type": "code",
   "outputs": [],
   "source": [
    "train = pd.read_csv('train.csv')"
   ],
   "metadata": {
    "collapsed": false,
    "ExecuteTime": {
     "end_time": "2024-06-26T11:47:51.494146Z",
     "start_time": "2024-06-26T11:47:51.480174Z"
    }
   },
   "id": "718aa76a812097de",
   "execution_count": 2
  },
  {
   "cell_type": "code",
   "outputs": [],
   "source": [
    "test = pd.read_csv('test.csv')"
   ],
   "metadata": {
    "collapsed": false,
    "ExecuteTime": {
     "end_time": "2024-06-26T11:47:51.505026Z",
     "start_time": "2024-06-26T11:47:51.495253Z"
    }
   },
   "id": "f67aac74c9d5af1f",
   "execution_count": 3
  },
  {
   "cell_type": "code",
   "outputs": [
    {
     "data": {
      "text/plain": "Index(['PassengerId', 'HomePlanet', 'CryoSleep', 'Cabin', 'Destination', 'Age',\n       'VIP', 'RoomService', 'FoodCourt', 'ShoppingMall', 'Spa', 'VRDeck',\n       'Name', 'Transported'],\n      dtype='object')"
     },
     "execution_count": 4,
     "metadata": {},
     "output_type": "execute_result"
    }
   ],
   "source": [
    "train.columns"
   ],
   "metadata": {
    "collapsed": false,
    "ExecuteTime": {
     "end_time": "2024-06-26T11:47:51.510593Z",
     "start_time": "2024-06-26T11:47:51.506444Z"
    }
   },
   "id": "9484a443527d4730",
   "execution_count": 4
  },
  {
   "cell_type": "code",
   "outputs": [
    {
     "data": {
      "text/plain": "PassengerId      object\nHomePlanet       object\nCryoSleep        object\nCabin            object\nDestination      object\nAge             float64\nVIP              object\nRoomService     float64\nFoodCourt       float64\nShoppingMall    float64\nSpa             float64\nVRDeck          float64\nName             object\nTransported        bool\ndtype: object"
     },
     "execution_count": 5,
     "metadata": {},
     "output_type": "execute_result"
    }
   ],
   "source": [
    "train.dtypes"
   ],
   "metadata": {
    "collapsed": false,
    "ExecuteTime": {
     "end_time": "2024-06-26T11:47:51.514403Z",
     "start_time": "2024-06-26T11:47:51.510030Z"
    }
   },
   "id": "f70ed4c2f8717a07",
   "execution_count": 5
  },
  {
   "cell_type": "code",
   "outputs": [
    {
     "data": {
      "text/plain": "  PassengerId HomePlanet CryoSleep  Cabin  Destination   Age    VIP  \\\n0     0001_01     Europa     False  B/0/P  TRAPPIST-1e  39.0  False   \n1     0002_01      Earth     False  F/0/S  TRAPPIST-1e  24.0  False   \n2     0003_01     Europa     False  A/0/S  TRAPPIST-1e  58.0   True   \n3     0003_02     Europa     False  A/0/S  TRAPPIST-1e  33.0  False   \n4     0004_01      Earth     False  F/1/S  TRAPPIST-1e  16.0  False   \n\n   RoomService  FoodCourt  ShoppingMall     Spa  VRDeck               Name  \\\n0          0.0        0.0           0.0     0.0     0.0    Maham Ofracculy   \n1        109.0        9.0          25.0   549.0    44.0       Juanna Vines   \n2         43.0     3576.0           0.0  6715.0    49.0      Altark Susent   \n3          0.0     1283.0         371.0  3329.0   193.0       Solam Susent   \n4        303.0       70.0         151.0   565.0     2.0  Willy Santantines   \n\n   Transported  \n0        False  \n1         True  \n2        False  \n3        False  \n4         True  ",
      "text/html": "<div>\n<style scoped>\n    .dataframe tbody tr th:only-of-type {\n        vertical-align: middle;\n    }\n\n    .dataframe tbody tr th {\n        vertical-align: top;\n    }\n\n    .dataframe thead th {\n        text-align: right;\n    }\n</style>\n<table border=\"1\" class=\"dataframe\">\n  <thead>\n    <tr style=\"text-align: right;\">\n      <th></th>\n      <th>PassengerId</th>\n      <th>HomePlanet</th>\n      <th>CryoSleep</th>\n      <th>Cabin</th>\n      <th>Destination</th>\n      <th>Age</th>\n      <th>VIP</th>\n      <th>RoomService</th>\n      <th>FoodCourt</th>\n      <th>ShoppingMall</th>\n      <th>Spa</th>\n      <th>VRDeck</th>\n      <th>Name</th>\n      <th>Transported</th>\n    </tr>\n  </thead>\n  <tbody>\n    <tr>\n      <th>0</th>\n      <td>0001_01</td>\n      <td>Europa</td>\n      <td>False</td>\n      <td>B/0/P</td>\n      <td>TRAPPIST-1e</td>\n      <td>39.0</td>\n      <td>False</td>\n      <td>0.0</td>\n      <td>0.0</td>\n      <td>0.0</td>\n      <td>0.0</td>\n      <td>0.0</td>\n      <td>Maham Ofracculy</td>\n      <td>False</td>\n    </tr>\n    <tr>\n      <th>1</th>\n      <td>0002_01</td>\n      <td>Earth</td>\n      <td>False</td>\n      <td>F/0/S</td>\n      <td>TRAPPIST-1e</td>\n      <td>24.0</td>\n      <td>False</td>\n      <td>109.0</td>\n      <td>9.0</td>\n      <td>25.0</td>\n      <td>549.0</td>\n      <td>44.0</td>\n      <td>Juanna Vines</td>\n      <td>True</td>\n    </tr>\n    <tr>\n      <th>2</th>\n      <td>0003_01</td>\n      <td>Europa</td>\n      <td>False</td>\n      <td>A/0/S</td>\n      <td>TRAPPIST-1e</td>\n      <td>58.0</td>\n      <td>True</td>\n      <td>43.0</td>\n      <td>3576.0</td>\n      <td>0.0</td>\n      <td>6715.0</td>\n      <td>49.0</td>\n      <td>Altark Susent</td>\n      <td>False</td>\n    </tr>\n    <tr>\n      <th>3</th>\n      <td>0003_02</td>\n      <td>Europa</td>\n      <td>False</td>\n      <td>A/0/S</td>\n      <td>TRAPPIST-1e</td>\n      <td>33.0</td>\n      <td>False</td>\n      <td>0.0</td>\n      <td>1283.0</td>\n      <td>371.0</td>\n      <td>3329.0</td>\n      <td>193.0</td>\n      <td>Solam Susent</td>\n      <td>False</td>\n    </tr>\n    <tr>\n      <th>4</th>\n      <td>0004_01</td>\n      <td>Earth</td>\n      <td>False</td>\n      <td>F/1/S</td>\n      <td>TRAPPIST-1e</td>\n      <td>16.0</td>\n      <td>False</td>\n      <td>303.0</td>\n      <td>70.0</td>\n      <td>151.0</td>\n      <td>565.0</td>\n      <td>2.0</td>\n      <td>Willy Santantines</td>\n      <td>True</td>\n    </tr>\n  </tbody>\n</table>\n</div>"
     },
     "execution_count": 6,
     "metadata": {},
     "output_type": "execute_result"
    }
   ],
   "source": [
    "train.head()"
   ],
   "metadata": {
    "collapsed": false,
    "ExecuteTime": {
     "end_time": "2024-06-26T11:47:51.524201Z",
     "start_time": "2024-06-26T11:47:51.514554Z"
    }
   },
   "id": "d4b3af8b4baa4ed0",
   "execution_count": 6
  },
  {
   "cell_type": "code",
   "outputs": [
    {
     "data": {
      "text/plain": "               Age   RoomService     FoodCourt  ShoppingMall           Spa  \\\ncount  8514.000000   8512.000000   8510.000000   8485.000000   8510.000000   \nmean     28.827930    224.687617    458.077203    173.729169    311.138778   \nstd      14.489021    666.717663   1611.489240    604.696458   1136.705535   \nmin       0.000000      0.000000      0.000000      0.000000      0.000000   \n25%      19.000000      0.000000      0.000000      0.000000      0.000000   \n50%      27.000000      0.000000      0.000000      0.000000      0.000000   \n75%      38.000000     47.000000     76.000000     27.000000     59.000000   \nmax      79.000000  14327.000000  29813.000000  23492.000000  22408.000000   \n\n             VRDeck  \ncount   8505.000000  \nmean     304.854791  \nstd     1145.717189  \nmin        0.000000  \n25%        0.000000  \n50%        0.000000  \n75%       46.000000  \nmax    24133.000000  ",
      "text/html": "<div>\n<style scoped>\n    .dataframe tbody tr th:only-of-type {\n        vertical-align: middle;\n    }\n\n    .dataframe tbody tr th {\n        vertical-align: top;\n    }\n\n    .dataframe thead th {\n        text-align: right;\n    }\n</style>\n<table border=\"1\" class=\"dataframe\">\n  <thead>\n    <tr style=\"text-align: right;\">\n      <th></th>\n      <th>Age</th>\n      <th>RoomService</th>\n      <th>FoodCourt</th>\n      <th>ShoppingMall</th>\n      <th>Spa</th>\n      <th>VRDeck</th>\n    </tr>\n  </thead>\n  <tbody>\n    <tr>\n      <th>count</th>\n      <td>8514.000000</td>\n      <td>8512.000000</td>\n      <td>8510.000000</td>\n      <td>8485.000000</td>\n      <td>8510.000000</td>\n      <td>8505.000000</td>\n    </tr>\n    <tr>\n      <th>mean</th>\n      <td>28.827930</td>\n      <td>224.687617</td>\n      <td>458.077203</td>\n      <td>173.729169</td>\n      <td>311.138778</td>\n      <td>304.854791</td>\n    </tr>\n    <tr>\n      <th>std</th>\n      <td>14.489021</td>\n      <td>666.717663</td>\n      <td>1611.489240</td>\n      <td>604.696458</td>\n      <td>1136.705535</td>\n      <td>1145.717189</td>\n    </tr>\n    <tr>\n      <th>min</th>\n      <td>0.000000</td>\n      <td>0.000000</td>\n      <td>0.000000</td>\n      <td>0.000000</td>\n      <td>0.000000</td>\n      <td>0.000000</td>\n    </tr>\n    <tr>\n      <th>25%</th>\n      <td>19.000000</td>\n      <td>0.000000</td>\n      <td>0.000000</td>\n      <td>0.000000</td>\n      <td>0.000000</td>\n      <td>0.000000</td>\n    </tr>\n    <tr>\n      <th>50%</th>\n      <td>27.000000</td>\n      <td>0.000000</td>\n      <td>0.000000</td>\n      <td>0.000000</td>\n      <td>0.000000</td>\n      <td>0.000000</td>\n    </tr>\n    <tr>\n      <th>75%</th>\n      <td>38.000000</td>\n      <td>47.000000</td>\n      <td>76.000000</td>\n      <td>27.000000</td>\n      <td>59.000000</td>\n      <td>46.000000</td>\n    </tr>\n    <tr>\n      <th>max</th>\n      <td>79.000000</td>\n      <td>14327.000000</td>\n      <td>29813.000000</td>\n      <td>23492.000000</td>\n      <td>22408.000000</td>\n      <td>24133.000000</td>\n    </tr>\n  </tbody>\n</table>\n</div>"
     },
     "execution_count": 7,
     "metadata": {},
     "output_type": "execute_result"
    }
   ],
   "source": [
    "train.describe()"
   ],
   "metadata": {
    "collapsed": false,
    "ExecuteTime": {
     "end_time": "2024-06-26T11:47:51.540913Z",
     "start_time": "2024-06-26T11:47:51.524032Z"
    }
   },
   "id": "e1067c9e50ecf7d1",
   "execution_count": 7
  },
  {
   "cell_type": "code",
   "outputs": [
    {
     "data": {
      "text/plain": "     PassengerId HomePlanet CryoSleep     Cabin    Destination    VIP  \\\n0        0001_01     Europa     False     B/0/P    TRAPPIST-1e  False   \n1        0002_01      Earth     False     F/0/S    TRAPPIST-1e  False   \n2        0003_01     Europa     False     A/0/S    TRAPPIST-1e   True   \n3        0003_02     Europa     False     A/0/S    TRAPPIST-1e  False   \n4        0004_01      Earth     False     F/1/S    TRAPPIST-1e  False   \n...          ...        ...       ...       ...            ...    ...   \n8688     9276_01     Europa     False    A/98/P    55 Cancri e   True   \n8689     9278_01      Earth      True  G/1499/S  PSO J318.5-22  False   \n8690     9279_01      Earth     False  G/1500/S    TRAPPIST-1e  False   \n8691     9280_01     Europa     False   E/608/S    55 Cancri e  False   \n8692     9280_02     Europa     False   E/608/S    TRAPPIST-1e  False   \n\n                   Name  \n0       Maham Ofracculy  \n1          Juanna Vines  \n2         Altark Susent  \n3          Solam Susent  \n4     Willy Santantines  \n...                 ...  \n8688  Gravior Noxnuther  \n8689    Kurta Mondalley  \n8690       Fayey Connon  \n8691   Celeon Hontichre  \n8692   Propsh Hontichre  \n\n[8693 rows x 7 columns]",
      "text/html": "<div>\n<style scoped>\n    .dataframe tbody tr th:only-of-type {\n        vertical-align: middle;\n    }\n\n    .dataframe tbody tr th {\n        vertical-align: top;\n    }\n\n    .dataframe thead th {\n        text-align: right;\n    }\n</style>\n<table border=\"1\" class=\"dataframe\">\n  <thead>\n    <tr style=\"text-align: right;\">\n      <th></th>\n      <th>PassengerId</th>\n      <th>HomePlanet</th>\n      <th>CryoSleep</th>\n      <th>Cabin</th>\n      <th>Destination</th>\n      <th>VIP</th>\n      <th>Name</th>\n    </tr>\n  </thead>\n  <tbody>\n    <tr>\n      <th>0</th>\n      <td>0001_01</td>\n      <td>Europa</td>\n      <td>False</td>\n      <td>B/0/P</td>\n      <td>TRAPPIST-1e</td>\n      <td>False</td>\n      <td>Maham Ofracculy</td>\n    </tr>\n    <tr>\n      <th>1</th>\n      <td>0002_01</td>\n      <td>Earth</td>\n      <td>False</td>\n      <td>F/0/S</td>\n      <td>TRAPPIST-1e</td>\n      <td>False</td>\n      <td>Juanna Vines</td>\n    </tr>\n    <tr>\n      <th>2</th>\n      <td>0003_01</td>\n      <td>Europa</td>\n      <td>False</td>\n      <td>A/0/S</td>\n      <td>TRAPPIST-1e</td>\n      <td>True</td>\n      <td>Altark Susent</td>\n    </tr>\n    <tr>\n      <th>3</th>\n      <td>0003_02</td>\n      <td>Europa</td>\n      <td>False</td>\n      <td>A/0/S</td>\n      <td>TRAPPIST-1e</td>\n      <td>False</td>\n      <td>Solam Susent</td>\n    </tr>\n    <tr>\n      <th>4</th>\n      <td>0004_01</td>\n      <td>Earth</td>\n      <td>False</td>\n      <td>F/1/S</td>\n      <td>TRAPPIST-1e</td>\n      <td>False</td>\n      <td>Willy Santantines</td>\n    </tr>\n    <tr>\n      <th>...</th>\n      <td>...</td>\n      <td>...</td>\n      <td>...</td>\n      <td>...</td>\n      <td>...</td>\n      <td>...</td>\n      <td>...</td>\n    </tr>\n    <tr>\n      <th>8688</th>\n      <td>9276_01</td>\n      <td>Europa</td>\n      <td>False</td>\n      <td>A/98/P</td>\n      <td>55 Cancri e</td>\n      <td>True</td>\n      <td>Gravior Noxnuther</td>\n    </tr>\n    <tr>\n      <th>8689</th>\n      <td>9278_01</td>\n      <td>Earth</td>\n      <td>True</td>\n      <td>G/1499/S</td>\n      <td>PSO J318.5-22</td>\n      <td>False</td>\n      <td>Kurta Mondalley</td>\n    </tr>\n    <tr>\n      <th>8690</th>\n      <td>9279_01</td>\n      <td>Earth</td>\n      <td>False</td>\n      <td>G/1500/S</td>\n      <td>TRAPPIST-1e</td>\n      <td>False</td>\n      <td>Fayey Connon</td>\n    </tr>\n    <tr>\n      <th>8691</th>\n      <td>9280_01</td>\n      <td>Europa</td>\n      <td>False</td>\n      <td>E/608/S</td>\n      <td>55 Cancri e</td>\n      <td>False</td>\n      <td>Celeon Hontichre</td>\n    </tr>\n    <tr>\n      <th>8692</th>\n      <td>9280_02</td>\n      <td>Europa</td>\n      <td>False</td>\n      <td>E/608/S</td>\n      <td>TRAPPIST-1e</td>\n      <td>False</td>\n      <td>Propsh Hontichre</td>\n    </tr>\n  </tbody>\n</table>\n<p>8693 rows × 7 columns</p>\n</div>"
     },
     "execution_count": 8,
     "metadata": {},
     "output_type": "execute_result"
    }
   ],
   "source": [
    "categorical = train.select_dtypes(include=['object'])\n",
    "categorical"
   ],
   "metadata": {
    "collapsed": false,
    "ExecuteTime": {
     "end_time": "2024-06-26T11:47:51.546439Z",
     "start_time": "2024-06-26T11:47:51.534664Z"
    }
   },
   "id": "25e52815acf86157",
   "execution_count": 8
  },
  {
   "cell_type": "code",
   "outputs": [
    {
     "name": "stdout",
     "output_type": "stream",
     "text": [
      "% of ppl who agreed to cryosleep that transported: 0.82\n"
     ]
    }
   ],
   "source": [
    "cryosleep = train.loc[train.CryoSleep == True]['Transported']\n",
    "rate_transported = sum(cryosleep) / len(cryosleep)\n",
    "\n",
    "print(\"% of ppl who agreed to cryosleep that transported:\", round(rate_transported, 2))"
   ],
   "metadata": {
    "collapsed": false,
    "ExecuteTime": {
     "end_time": "2024-06-26T11:47:51.558935Z",
     "start_time": "2024-06-26T11:47:51.541243Z"
    }
   },
   "id": "5254b6a5a5666a15",
   "execution_count": 9
  },
  {
   "cell_type": "code",
   "outputs": [],
   "source": [
    "y = train['Transported']\n",
    "features = ['CryoSleep', 'HomePlanet', 'VIP', 'Destination']\n",
    "\n",
    "X_train = pd.get_dummies(train[features])\n",
    "X_test = pd.get_dummies(test[features])\n",
    "\n",
    "model = RandomForestClassifier(random_state=1, n_estimators=100, max_depth=5)\n",
    "\n",
    "model.fit(X_train, y)\n",
    "predictions = model.predict(X_test)"
   ],
   "metadata": {
    "collapsed": false,
    "ExecuteTime": {
     "end_time": "2024-06-26T11:47:51.706965Z",
     "start_time": "2024-06-26T11:47:51.546669Z"
    }
   },
   "id": "35d3f6fb92c0877e",
   "execution_count": 10
  },
  {
   "cell_type": "code",
   "outputs": [
    {
     "name": "stdout",
     "output_type": "stream",
     "text": [
      "Submission successfully saved\n"
     ]
    }
   ],
   "source": [
    "output = pd.DataFrame({'PassengerId': test.PassengerId, 'Transported': predictions})\n",
    "output.to_csv('submissions.csv', index=False)\n",
    "print('Submission successfully saved')"
   ],
   "metadata": {
    "collapsed": false,
    "ExecuteTime": {
     "end_time": "2024-06-26T11:47:51.713220Z",
     "start_time": "2024-06-26T11:47:51.708118Z"
    }
   },
   "id": "cc6c31ef217b8e85",
   "execution_count": 11
  }
 ],
 "metadata": {
  "kernelspec": {
   "display_name": "Python 3",
   "language": "python",
   "name": "python3"
  },
  "language_info": {
   "codemirror_mode": {
    "name": "ipython",
    "version": 2
   },
   "file_extension": ".py",
   "mimetype": "text/x-python",
   "name": "python",
   "nbconvert_exporter": "python",
   "pygments_lexer": "ipython2",
   "version": "2.7.6"
  }
 },
 "nbformat": 4,
 "nbformat_minor": 5
}
